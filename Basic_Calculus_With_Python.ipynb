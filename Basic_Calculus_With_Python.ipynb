{
 "cells": [
  {
   "cell_type": "markdown",
   "id": "d22ffc89",
   "metadata": {},
   "source": [
    "**IMPORTING LIBRARY**"
   ]
  },
  {
   "cell_type": "code",
   "execution_count": 25,
   "id": "60c62ac5",
   "metadata": {},
   "outputs": [],
   "source": [
    "import sympy as smp\n",
    "from sympy import *"
   ]
  },
  {
   "cell_type": "markdown",
   "id": "9b177438",
   "metadata": {},
   "source": [
    "**Initializing Variables**"
   ]
  },
  {
   "cell_type": "code",
   "execution_count": 26,
   "id": "a634efc3",
   "metadata": {},
   "outputs": [],
   "source": [
    "x = smp.Symbol('x')\n",
    "y = smp.Symbol('y')"
   ]
  },
  {
   "cell_type": "markdown",
   "id": "fa152889",
   "metadata": {},
   "source": [
    "**$$\\lim_{x\\to\\pi}\\sin \\frac{x}{2} + \\sin x$$**"
   ]
  },
  {
   "cell_type": "code",
   "execution_count": 27,
   "id": "df178726",
   "metadata": {},
   "outputs": [
    {
     "data": {
      "text/latex": [
       "$\\displaystyle 1$"
      ],
      "text/plain": [
       "1"
      ]
     },
     "execution_count": 27,
     "metadata": {},
     "output_type": "execute_result"
    }
   ],
   "source": [
    "eqn_1 = smp.limit(smp.sin(x/2 + smp.sin(x)), x, smp.pi)\n",
    "eqn_1"
   ]
  },
  {
   "cell_type": "markdown",
   "id": "e4ec7203",
   "metadata": {},
   "source": [
    "$$\\lim_{x\\to0^+}\\frac{2e^{\\frac{1}{x}}}{e^{\\frac{1}{x}}+1}$$"
   ]
  },
  {
   "cell_type": "code",
   "execution_count": 28,
   "id": "f07a4ede",
   "metadata": {},
   "outputs": [
    {
     "data": {
      "text/latex": [
       "$\\displaystyle 2$"
      ],
      "text/plain": [
       "2"
      ]
     },
     "execution_count": 28,
     "metadata": {},
     "output_type": "execute_result"
    }
   ],
   "source": [
    "eqn_2 = smp.limit((2*smp.exp(1/x)) / (smp.exp(1/x)+1), x, 0, dir='+')\n",
    "eqn_2"
   ]
  },
  {
   "cell_type": "markdown",
   "id": "04e7c208",
   "metadata": {},
   "source": [
    "$$\\lim_{x\\to\\infty}\\frac{\\cos x - 1}{x}$$"
   ]
  },
  {
   "cell_type": "code",
   "execution_count": 29,
   "id": "9055566d",
   "metadata": {},
   "outputs": [
    {
     "data": {
      "text/latex": [
       "$\\displaystyle 0$"
      ],
      "text/plain": [
       "0"
      ]
     },
     "execution_count": 29,
     "metadata": {},
     "output_type": "execute_result"
    }
   ],
   "source": [
    "eqn_3 = smp.limit((smp.cos(x) - 1) / x, x, smp.oo)\n",
    "eqn_3"
   ]
  },
  {
   "cell_type": "markdown",
   "id": "71002c93",
   "metadata": {},
   "source": [
    "$$\\frac{d}{dx} \\left(\\frac{1+\\sin x}{1-\\cos x}\\right)^2$$"
   ]
  },
  {
   "cell_type": "code",
   "execution_count": 30,
   "id": "df14c1b7",
   "metadata": {},
   "outputs": [
    {
     "data": {
      "text/latex": [
       "$\\displaystyle \\frac{2 \\left(\\sin{\\left(x \\right)} + 1\\right) \\cos{\\left(x \\right)}}{\\left(1 - \\cos{\\left(x \\right)}\\right)^{2}} - \\frac{2 \\left(\\sin{\\left(x \\right)} + 1\\right)^{2} \\sin{\\left(x \\right)}}{\\left(1 - \\cos{\\left(x \\right)}\\right)^{3}}$"
      ],
      "text/plain": [
       "2*(sin(x) + 1)*cos(x)/(1 - cos(x))**2 - 2*(sin(x) + 1)**2*sin(x)/(1 - cos(x))**3"
      ]
     },
     "execution_count": 30,
     "metadata": {},
     "output_type": "execute_result"
    }
   ],
   "source": [
    "eqn_4 = smp.diff(((smp.sin(x)+1) / (1-smp.cos(x)))**2, x)\n",
    "eqn_4"
   ]
  },
  {
   "cell_type": "markdown",
   "id": "136d9025",
   "metadata": {},
   "source": [
    "$$\\frac{d}{dx}(\\log_{5}(x))^{\\frac{x}{2}}$$"
   ]
  },
  {
   "cell_type": "code",
   "execution_count": 31,
   "id": "c882d4dc",
   "metadata": {},
   "outputs": [
    {
     "data": {
      "text/latex": [
       "$\\displaystyle \\left(\\frac{\\log{\\left(x \\right)}}{\\log{\\left(5 \\right)}}\\right)^{\\frac{x}{2}} \\left(\\frac{\\log{\\left(\\frac{\\log{\\left(x \\right)}}{\\log{\\left(5 \\right)}} \\right)}}{2} + \\frac{1}{2 \\log{\\left(x \\right)}}\\right)$"
      ],
      "text/plain": [
       "(log(x)/log(5))**(x/2)*(log(log(x)/log(5))/2 + 1/(2*log(x)))"
      ]
     },
     "execution_count": 31,
     "metadata": {},
     "output_type": "execute_result"
    }
   ],
   "source": [
    "eqn_4 = smp.diff(smp.log(x, 5)**(x/2), x)\n",
    "eqn_4"
   ]
  },
  {
   "cell_type": "markdown",
   "id": "900e164d",
   "metadata": {},
   "source": [
    "$$\\frac{d}{dx}f(x+g(x))$$"
   ]
  },
  {
   "cell_type": "code",
   "execution_count": 32,
   "id": "ba9de5bc",
   "metadata": {},
   "outputs": [
    {
     "data": {
      "text/latex": [
       "$\\displaystyle \\left(\\frac{d}{d x} g{\\left(x \\right)} + 1\\right) \\left. \\frac{d}{d \\xi_{1}} f{\\left(\\xi_{1} \\right)} \\right|_{\\substack{ \\xi_{1}=x + g{\\left(x \\right)} }}$"
      ],
      "text/plain": [
       "(Derivative(g(x), x) + 1)*Subs(Derivative(f(_xi_1), _xi_1), _xi_1, x + g(x))"
      ]
     },
     "execution_count": 32,
     "metadata": {},
     "output_type": "execute_result"
    }
   ],
   "source": [
    "f = smp.symbols('f', cls=smp.Function)\n",
    "g = smp.symbols('g', cls=smp.Function)\n",
    "\n",
    "g = g(x)\n",
    "f = f(x + g)\n",
    "\n",
    "eqn_5 = smp.diff(f, x)\n",
    "eqn_5"
   ]
  },
  {
   "cell_type": "markdown",
   "id": "3332b1ab",
   "metadata": {},
   "source": [
    "$$\\int\\csc(x)\\cot(x)dx$$"
   ]
  },
  {
   "cell_type": "code",
   "execution_count": 33,
   "id": "26e4214d",
   "metadata": {},
   "outputs": [
    {
     "data": {
      "text/latex": [
       "$\\displaystyle - \\frac{1}{\\sin{\\left(x \\right)}}$"
      ],
      "text/plain": [
       "-1/sin(x)"
      ]
     },
     "execution_count": 33,
     "metadata": {},
     "output_type": "execute_result"
    }
   ],
   "source": [
    "'''\n",
    "Integration with smp does not give you the constant (+C)\n",
    "'''\n",
    "eqn_6 = smp.integrate(smp.csc(x)*smp.cot(x), x)\n",
    "eqn_6"
   ]
  },
  {
   "cell_type": "markdown",
   "id": "67c03c4e",
   "metadata": {},
   "source": [
    "$$\\int4\\sec(3x)\\tan(3x)dx$$"
   ]
  },
  {
   "cell_type": "code",
   "execution_count": 34,
   "id": "6fa3c97c",
   "metadata": {},
   "outputs": [
    {
     "data": {
      "text/latex": [
       "$\\displaystyle \\frac{4}{3 \\cos{\\left(3 x \\right)}}$"
      ],
      "text/plain": [
       "4/(3*cos(3*x))"
      ]
     },
     "execution_count": 34,
     "metadata": {},
     "output_type": "execute_result"
    }
   ],
   "source": [
    "eqn_7 = smp.integrate(4*smp.sec(3*x)*smp.tan(3*x), x)\n",
    "eqn_7"
   ]
  },
  {
   "cell_type": "markdown",
   "id": "a2fd6e28",
   "metadata": {},
   "source": [
    "$$\\int(\\frac{2}{\\sqrt{1-x^2}}-\\frac{1}{x^{\\frac{1}{4}}})dx$$"
   ]
  },
  {
   "cell_type": "code",
   "execution_count": 35,
   "id": "758febae",
   "metadata": {},
   "outputs": [
    {
     "data": {
      "text/latex": [
       "$\\displaystyle - \\frac{4 x^{\\frac{3}{4}}}{3} + 2 \\operatorname{asin}{\\left(x \\right)}$"
      ],
      "text/plain": [
       "-4*x**(3/4)/3 + 2*asin(x)"
      ]
     },
     "execution_count": 35,
     "metadata": {},
     "output_type": "execute_result"
    }
   ],
   "source": [
    "eqn_8 = smp.integrate(2/smp.sqrt(1-x**2)-1/x**smp.Rational(1,4), x)\n",
    "eqn_8"
   ]
  }
 ],
 "metadata": {
  "kernelspec": {
   "display_name": "Python 3 (ipykernel)",
   "language": "python",
   "name": "python3"
  },
  "language_info": {
   "codemirror_mode": {
    "name": "ipython",
    "version": 3
   },
   "file_extension": ".py",
   "mimetype": "text/x-python",
   "name": "python",
   "nbconvert_exporter": "python",
   "pygments_lexer": "ipython3",
   "version": "3.10.1"
  }
 },
 "nbformat": 4,
 "nbformat_minor": 5
}
